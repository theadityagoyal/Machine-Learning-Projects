{
 "cells": [
  {
   "cell_type": "code",
   "execution_count": 3,
   "metadata": {},
   "outputs": [
    {
     "name": "stdout",
     "output_type": "stream",
     "text": [
      "\n",
      "Total Words: 968841\n",
      "\n",
      "Top 20 Words:\n",
      "THE \t 30062\n",
      "AND \t 28379\n",
      "I \t 22307\n",
      "TO \t 20926\n",
      "OF \t 18813\n",
      "A \t 15950\n",
      "YOU \t 14461\n",
      "MY \t 13173\n",
      "IN \t 12122\n",
      "THAT \t 11924\n",
      "IS \t 9779\n",
      "NOT \t 9053\n",
      "WITH \t 8516\n",
      "ME \t 8242\n",
      "FOR \t 8207\n",
      "IT \t 8177\n",
      "HIS \t 7567\n",
      "BE \t 7355\n",
      "THIS \t 7166\n",
      "YOUR \t 7072\n"
     ]
    }
   ],
   "source": [
    "import re\n",
    "from collections import Counter\n",
    "\n",
    "def count_words(path):\n",
    "    with open(path, encoding='utf-8') as file:\n",
    "        all_words = re.findall(r\"[0-9a-zA-Z-']+\", file.read())\n",
    "        all_words = [word.upper() for word in all_words]\n",
    "        print('\\nTotal Words:', len(all_words))\n",
    "        \n",
    "        word_counts = Counter()\n",
    "        for word in all_words:\n",
    "            word_counts[word] += 1\n",
    "        \n",
    "        print('\\nTop 20 Words:')\n",
    "        for word in word_counts.most_common(20):\n",
    "            print(word[0], '\\t', word[1])\n",
    "            \n",
    "if __name__ == '__main__':\n",
    "    count_words('C:\\\\Users\\\\Tanmay\\\\Desktop\\\\filename.txt')"
   ]
  },
  {
   "cell_type": "code",
   "execution_count": 4,
   "metadata": {},
   "outputs": [
    {
     "name": "stdout",
     "output_type": "stream",
     "text": [
      "Do you wish to encrypt or decrypt a message?\n",
      "Enter your message:\n",
      "Enter the key number (1-52)\n",
      "Your translated text is:\n",
      "tanmaY\n"
     ]
    }
   ],
   "source": [
    "# Caesar Cipher\n",
    "SYMBOLS = 'ABCDEFGHIJKLMNOPQRSTUVWXYZabcdefghijklmnopqrstuvwxyz'\n",
    "MAX_KEY_SIZE = len(SYMBOLS)\n",
    "\n",
    "def getMode():\n",
    "    while True:\n",
    "        print('Do you wish to encrypt or decrypt a message?')\n",
    "        mode = input().lower()\n",
    "        if mode in ['encrypt', 'e', 'decrypt', 'd']:\n",
    "            return mode\n",
    "        else:\n",
    "            print('Enter either \"encrypt\" or \"e\" or \"decrypt\" or \"d\".')\n",
    "\n",
    "def getMessage():\n",
    "    print('Enter your message:')\n",
    "    return input()\n",
    "\n",
    "def getKey():\n",
    "    key = 0\n",
    "    while True:\n",
    "        print('Enter the key number (1-%s)' % (MAX_KEY_SIZE))\n",
    "        key = int(input())\n",
    "        if (key >= 1 and key <= MAX_KEY_SIZE):\n",
    "            return key\n",
    "\n",
    "def getTranslatedMessage(mode, message, key):\n",
    "    if mode[0] == 'd':\n",
    "        key = -key\n",
    "    translated = ''\n",
    "\n",
    "    for symbol in message:\n",
    "        symbolIndex = SYMBOLS.find(symbol)\n",
    "        if symbolIndex == -1: # Symbol not found in SYMBOLS.\n",
    "            # Just add this symbol without any change.\n",
    "            translated += symbol\n",
    "        else:\n",
    "            # Encrypt or decrypt\n",
    "            symbolIndex += key\n",
    "\n",
    "            if symbolIndex >= len(SYMBOLS):\n",
    "                symbolIndex -= len(SYMBOLS)\n",
    "            elif symbolIndex < 0:\n",
    "                symbolIndex += len(SYMBOLS)\n",
    "\n",
    "            translated += SYMBOLS[symbolIndex]\n",
    "    return translated\n",
    "\n",
    "mode = getMode()\n",
    "message = getMessage()\n",
    "key = getKey()\n",
    "print('Your translated text is:')\n",
    "print(getTranslatedMessage(mode, message, key))\n"
   ]
  },
  {
   "cell_type": "code",
   "execution_count": null,
   "metadata": {},
   "outputs": [],
   "source": []
  }
 ],
 "metadata": {
  "kernelspec": {
   "display_name": "Python 3",
   "language": "python",
   "name": "python3"
  },
  "language_info": {
   "codemirror_mode": {
    "name": "ipython",
    "version": 3
   },
   "file_extension": ".py",
   "mimetype": "text/x-python",
   "name": "python",
   "nbconvert_exporter": "python",
   "pygments_lexer": "ipython3",
   "version": "3.6.5"
  }
 },
 "nbformat": 4,
 "nbformat_minor": 2
}
